{
  "nbformat": 4,
  "nbformat_minor": 0,
  "metadata": {
    "colab": {
      "provenance": []
    },
    "kernelspec": {
      "name": "python3",
      "display_name": "Python 3"
    },
    "language_info": {
      "name": "python"
    }
  },
  "cells": [
    {
      "cell_type": "code",
      "source": [
        "!pip install PyPDF2\n",
        "!pip install pdfplumber\n",
        "!pip install transformers\n",
        "!pip install datasets"
      ],
      "metadata": {
        "id": "FEbQHFlFTx7w",
        "colab": {
          "base_uri": "https://localhost:8080/"
        },
        "outputId": "619b54c5-9a0d-4295-de89-1fc61d1ab13d"
      },
      "execution_count": 64,
      "outputs": [
        {
          "output_type": "stream",
          "name": "stdout",
          "text": [
            "Requirement already satisfied: PyPDF2 in /usr/local/lib/python3.10/dist-packages (3.0.1)\n",
            "Requirement already satisfied: pdfplumber in /usr/local/lib/python3.10/dist-packages (0.10.2)\n",
            "Requirement already satisfied: pdfminer.six==20221105 in /usr/local/lib/python3.10/dist-packages (from pdfplumber) (20221105)\n",
            "Requirement already satisfied: Pillow>=9.1 in /usr/local/lib/python3.10/dist-packages (from pdfplumber) (9.4.0)\n",
            "Requirement already satisfied: pypdfium2>=4.18.0 in /usr/local/lib/python3.10/dist-packages (from pdfplumber) (4.20.0)\n",
            "Requirement already satisfied: charset-normalizer>=2.0.0 in /usr/local/lib/python3.10/dist-packages (from pdfminer.six==20221105->pdfplumber) (3.2.0)\n",
            "Requirement already satisfied: cryptography>=36.0.0 in /usr/local/lib/python3.10/dist-packages (from pdfminer.six==20221105->pdfplumber) (41.0.3)\n",
            "Requirement already satisfied: cffi>=1.12 in /usr/local/lib/python3.10/dist-packages (from cryptography>=36.0.0->pdfminer.six==20221105->pdfplumber) (1.15.1)\n",
            "Requirement already satisfied: pycparser in /usr/local/lib/python3.10/dist-packages (from cffi>=1.12->cryptography>=36.0.0->pdfminer.six==20221105->pdfplumber) (2.21)\n",
            "Requirement already satisfied: transformers in /usr/local/lib/python3.10/dist-packages (4.33.2)\n",
            "Requirement already satisfied: filelock in /usr/local/lib/python3.10/dist-packages (from transformers) (3.12.2)\n",
            "Requirement already satisfied: huggingface-hub<1.0,>=0.15.1 in /usr/local/lib/python3.10/dist-packages (from transformers) (0.17.2)\n",
            "Requirement already satisfied: numpy>=1.17 in /usr/local/lib/python3.10/dist-packages (from transformers) (1.23.5)\n",
            "Requirement already satisfied: packaging>=20.0 in /usr/local/lib/python3.10/dist-packages (from transformers) (23.1)\n",
            "Requirement already satisfied: pyyaml>=5.1 in /usr/local/lib/python3.10/dist-packages (from transformers) (6.0.1)\n",
            "Requirement already satisfied: regex!=2019.12.17 in /usr/local/lib/python3.10/dist-packages (from transformers) (2023.6.3)\n",
            "Requirement already satisfied: requests in /usr/local/lib/python3.10/dist-packages (from transformers) (2.31.0)\n",
            "Requirement already satisfied: tokenizers!=0.11.3,<0.14,>=0.11.1 in /usr/local/lib/python3.10/dist-packages (from transformers) (0.13.3)\n",
            "Requirement already satisfied: safetensors>=0.3.1 in /usr/local/lib/python3.10/dist-packages (from transformers) (0.3.3)\n",
            "Requirement already satisfied: tqdm>=4.27 in /usr/local/lib/python3.10/dist-packages (from transformers) (4.66.1)\n",
            "Requirement already satisfied: fsspec in /usr/local/lib/python3.10/dist-packages (from huggingface-hub<1.0,>=0.15.1->transformers) (2023.6.0)\n",
            "Requirement already satisfied: typing-extensions>=3.7.4.3 in /usr/local/lib/python3.10/dist-packages (from huggingface-hub<1.0,>=0.15.1->transformers) (4.5.0)\n",
            "Requirement already satisfied: charset-normalizer<4,>=2 in /usr/local/lib/python3.10/dist-packages (from requests->transformers) (3.2.0)\n",
            "Requirement already satisfied: idna<4,>=2.5 in /usr/local/lib/python3.10/dist-packages (from requests->transformers) (3.4)\n",
            "Requirement already satisfied: urllib3<3,>=1.21.1 in /usr/local/lib/python3.10/dist-packages (from requests->transformers) (2.0.4)\n",
            "Requirement already satisfied: certifi>=2017.4.17 in /usr/local/lib/python3.10/dist-packages (from requests->transformers) (2023.7.22)\n",
            "Requirement already satisfied: datasets in /usr/local/lib/python3.10/dist-packages (2.14.5)\n",
            "Requirement already satisfied: numpy>=1.17 in /usr/local/lib/python3.10/dist-packages (from datasets) (1.23.5)\n",
            "Requirement already satisfied: pyarrow>=8.0.0 in /usr/local/lib/python3.10/dist-packages (from datasets) (9.0.0)\n",
            "Requirement already satisfied: dill<0.3.8,>=0.3.0 in /usr/local/lib/python3.10/dist-packages (from datasets) (0.3.7)\n",
            "Requirement already satisfied: pandas in /usr/local/lib/python3.10/dist-packages (from datasets) (1.5.3)\n",
            "Requirement already satisfied: requests>=2.19.0 in /usr/local/lib/python3.10/dist-packages (from datasets) (2.31.0)\n",
            "Requirement already satisfied: tqdm>=4.62.1 in /usr/local/lib/python3.10/dist-packages (from datasets) (4.66.1)\n",
            "Requirement already satisfied: xxhash in /usr/local/lib/python3.10/dist-packages (from datasets) (3.3.0)\n",
            "Requirement already satisfied: multiprocess in /usr/local/lib/python3.10/dist-packages (from datasets) (0.70.15)\n",
            "Requirement already satisfied: fsspec[http]<2023.9.0,>=2023.1.0 in /usr/local/lib/python3.10/dist-packages (from datasets) (2023.6.0)\n",
            "Requirement already satisfied: aiohttp in /usr/local/lib/python3.10/dist-packages (from datasets) (3.8.5)\n",
            "Requirement already satisfied: huggingface-hub<1.0.0,>=0.14.0 in /usr/local/lib/python3.10/dist-packages (from datasets) (0.17.2)\n",
            "Requirement already satisfied: packaging in /usr/local/lib/python3.10/dist-packages (from datasets) (23.1)\n",
            "Requirement already satisfied: pyyaml>=5.1 in /usr/local/lib/python3.10/dist-packages (from datasets) (6.0.1)\n",
            "Requirement already satisfied: attrs>=17.3.0 in /usr/local/lib/python3.10/dist-packages (from aiohttp->datasets) (23.1.0)\n",
            "Requirement already satisfied: charset-normalizer<4.0,>=2.0 in /usr/local/lib/python3.10/dist-packages (from aiohttp->datasets) (3.2.0)\n",
            "Requirement already satisfied: multidict<7.0,>=4.5 in /usr/local/lib/python3.10/dist-packages (from aiohttp->datasets) (6.0.4)\n",
            "Requirement already satisfied: async-timeout<5.0,>=4.0.0a3 in /usr/local/lib/python3.10/dist-packages (from aiohttp->datasets) (4.0.3)\n",
            "Requirement already satisfied: yarl<2.0,>=1.0 in /usr/local/lib/python3.10/dist-packages (from aiohttp->datasets) (1.9.2)\n",
            "Requirement already satisfied: frozenlist>=1.1.1 in /usr/local/lib/python3.10/dist-packages (from aiohttp->datasets) (1.4.0)\n",
            "Requirement already satisfied: aiosignal>=1.1.2 in /usr/local/lib/python3.10/dist-packages (from aiohttp->datasets) (1.3.1)\n",
            "Requirement already satisfied: filelock in /usr/local/lib/python3.10/dist-packages (from huggingface-hub<1.0.0,>=0.14.0->datasets) (3.12.2)\n",
            "Requirement already satisfied: typing-extensions>=3.7.4.3 in /usr/local/lib/python3.10/dist-packages (from huggingface-hub<1.0.0,>=0.14.0->datasets) (4.5.0)\n",
            "Requirement already satisfied: idna<4,>=2.5 in /usr/local/lib/python3.10/dist-packages (from requests>=2.19.0->datasets) (3.4)\n",
            "Requirement already satisfied: urllib3<3,>=1.21.1 in /usr/local/lib/python3.10/dist-packages (from requests>=2.19.0->datasets) (2.0.4)\n",
            "Requirement already satisfied: certifi>=2017.4.17 in /usr/local/lib/python3.10/dist-packages (from requests>=2.19.0->datasets) (2023.7.22)\n",
            "Requirement already satisfied: python-dateutil>=2.8.1 in /usr/local/lib/python3.10/dist-packages (from pandas->datasets) (2.8.2)\n",
            "Requirement already satisfied: pytz>=2020.1 in /usr/local/lib/python3.10/dist-packages (from pandas->datasets) (2023.3.post1)\n",
            "Requirement already satisfied: six>=1.5 in /usr/local/lib/python3.10/dist-packages (from python-dateutil>=2.8.1->pandas->datasets) (1.16.0)\n"
          ]
        }
      ]
    },
    {
      "cell_type": "code",
      "execution_count": 65,
      "metadata": {
        "id": "eV_YLHbrS1DA"
      },
      "outputs": [],
      "source": [
        "import spacy\n",
        "from spacy.matcher import Matcher\n",
        "import numpy as np\n",
        "import pandas as pd\n",
        "import PyPDF2, pdfplumber\n"
      ]
    },
    {
      "cell_type": "code",
      "source": [
        "from google.colab import drive\n",
        "drive.mount('/content/drive')"
      ],
      "metadata": {
        "colab": {
          "base_uri": "https://localhost:8080/"
        },
        "id": "Gxgto5JojMu2",
        "outputId": "ccffdab4-8f3b-4723-9d69-cd83ec166cfe"
      },
      "execution_count": 66,
      "outputs": [
        {
          "output_type": "stream",
          "name": "stdout",
          "text": [
            "Drive already mounted at /content/drive; to attempt to forcibly remount, call drive.mount(\"/content/drive\", force_remount=True).\n"
          ]
        }
      ]
    },
    {
      "cell_type": "code",
      "source": [
        "nlp = spacy.load(\"en_core_web_sm\")"
      ],
      "metadata": {
        "id": "CxQW5bAvS65_"
      },
      "execution_count": 67,
      "outputs": []
    },
    {
      "cell_type": "code",
      "source": [
        "import os\n",
        "\n",
        "# Get the folder path\n",
        "folder_path1 = \"/content/drive/MyDrive/data/\"\n",
        "\n",
        "# Get the list of all files and directories in the folder\n",
        "files1 = os.listdir(folder_path1)\n",
        "print(files1)"
      ],
      "metadata": {
        "colab": {
          "base_uri": "https://localhost:8080/"
        },
        "id": "Gam-Yd-ij4wg",
        "outputId": "be710e7b-b3a4-4c69-b0c1-c0d938dbbdbb"
      },
      "execution_count": 68,
      "outputs": [
        {
          "output_type": "stream",
          "name": "stdout",
          "text": [
            "['FITNESS', 'TEACHER', 'HEALTHCARE', 'INFORMATION-TECHNOLOGY', 'FINANCE', 'ENGINEERING', 'PUBLIC-RELATIONS', 'SALES', 'DIGITAL-MEDIA', 'HR', 'AUTOMOBILE', 'BPO', 'BUSINESS-DEVELOPMENT', 'ARTS', 'CHEF', 'DESIGNER', 'BANKING', 'AVIATION', 'CONSTRUCTION', 'CONSULTANT', 'ACCOUNTANT', 'APPAREL', 'AGRICULTURE', 'ADVOCATE']\n"
          ]
        }
      ]
    },
    {
      "cell_type": "code",
      "source": [
        "CV_files = []\n",
        "pages = []\n",
        "for i in range(len(files1)):\n",
        "  files = os.listdir(folder_path1 + files1[i])\n",
        "  print(files)\n",
        "  temp = []\n",
        "  temp1 = []\n",
        "  for j in range(len(files)):\n",
        "    a = open(folder_path1 + files1[i] + '/' + files[j],'rb')\n",
        "    Script=PyPDF2.PdfReader(a)\n",
        "    temp1.append(len(Script.pages))\n",
        "    temp.append(a)\n",
        "  CV_files.append(temp)\n",
        "  pages.append(temp1)\n"
      ],
      "metadata": {
        "colab": {
          "base_uri": "https://localhost:8080/"
        },
        "id": "s7FsNagcgn1o",
        "outputId": "ce36954c-82d2-4b6d-a23c-c5b369b4e912"
      },
      "execution_count": 69,
      "outputs": [
        {
          "output_type": "stream",
          "name": "stdout",
          "text": [
            "['10235429.pdf', '19938081.pdf', '14107571.pdf', '17658471.pdf', '19599699.pdf', '11522068.pdf', '12791244.pdf', '19037403.pdf', '10428916.pdf', '10268614.pdf', '12923795.pdf', '17660419.pdf', '10568350.pdf', '13037145.pdf', '10969918.pdf', '16474898.pdf', '17163375.pdf', '16605352.pdf', '11130200.pdf', '12092347.pdf', '20255404.pdf', '19774173.pdf', '13367322.pdf', '12938389.pdf', '18767449.pdf', '17166018.pdf', '15932017.pdf', '17576030.pdf', '12019284.pdf', '17286050.pdf', '11332602.pdf', '14515954.pdf', '17431847.pdf', '12695799.pdf', '15293959.pdf', '16038911.pdf', '10333051.pdf', '19975121.pdf', '17915015.pdf', '13675377.pdf', '10816645.pdf', '28321954.pdf', '20457611.pdf', '27084878.pdf', '29573698.pdf', '20565486.pdf', '22093368.pdf', '24767027.pdf', '30757456.pdf', '24708621.pdf', '24905947.pdf', '23004695.pdf', '29425788.pdf', '26459032.pdf', '23063986.pdf', '28669770.pdf', '29306433.pdf', '24444525.pdf', '25482567.pdf', '29165698.pdf', '24219583.pdf', '28172023.pdf', '24251588.pdf', '21238396.pdf', '27974588.pdf', '30990885.pdf', '29319314.pdf', '31556198.pdf', '27903191.pdf', '25838512.pdf', '23011221.pdf', '22855060.pdf', '21178545.pdf', '21122155.pdf', '23477199.pdf', '20279756.pdf', '22488036.pdf', '24994145.pdf', '29792535.pdf', '31042953.pdf', '27397245.pdf', '25507648.pdf', '38642923.pdf', '80000092.pdf', '57575888.pdf', '69666645.pdf', '62870550.pdf', '54259150.pdf', '67032711.pdf', '95769832.pdf', '70603826.pdf', '34792238.pdf', '35164503.pdf', '63282405.pdf', '38108845.pdf', '34151183.pdf', '77266989.pdf', '52684666.pdf', '32636041.pdf', '90365216.pdf', '96761538.pdf', '37087824.pdf', '32651555.pdf', '32517106.pdf', '76530505.pdf', '89858892.pdf', '35302620.pdf', '97123005.pdf', '56286525.pdf', '55746506.pdf', '36139251.pdf', '45656814.pdf', '75156649.pdf', '59487170.pdf', '38650096.pdf', '39805617.pdf', '95085510.pdf']\n",
            "['10527994.pdf', '10909720.pdf', '10504237.pdf', '11336022.pdf', '15899269.pdf', '23398843.pdf', '13296856.pdf', '12467531.pdf', '18001081.pdf', '21550454.pdf', '19918523.pdf', '13330982.pdf', '20399718.pdf', '22632070.pdf', '22551979.pdf', '22807104.pdf', '15850434.pdf', '20626794.pdf', '23628651.pdf', '21773106.pdf', '17481570.pdf', '20478831.pdf', '17311685.pdf', '21611212.pdf', '16270906.pdf', '20230207.pdf', '16820422.pdf', '12587973.pdf', '19302310.pdf', '21531811.pdf', '13087952.pdf', '22510753.pdf', '22408666.pdf', '19464810.pdf', '16210888.pdf', '14958913.pdf', '19556300.pdf', '11616482.pdf', '22056333.pdf', '22884757.pdf', '13855004.pdf', '11943065.pdf', '22968380.pdf', '19786924.pdf', '13583538.pdf', '27798860.pdf', '28772892.pdf', '28933005.pdf', '45286020.pdf', '29267293.pdf', '51209395.pdf', '27524018.pdf', '28086303.pdf', '32067700.pdf', '27126818.pdf', '38750659.pdf', '23939133.pdf', '28013287.pdf', '29930479.pdf', '24791126.pdf', '33704389.pdf', '53129155.pdf', '34745915.pdf', '34465087.pdf', '35421497.pdf', '31552617.pdf', '29797594.pdf', '25588694.pdf', '45987048.pdf', '28642819.pdf', '34689720.pdf', '48547319.pdf', '36569713.pdf', '36206485.pdf', '58665241.pdf', '27531694.pdf', '24240349.pdf', '37660306.pdf', '25729119.pdf', '37402097.pdf', '28063132.pdf', '29486525.pdf', '34033933.pdf', '58105060.pdf', '49285644.pdf', '29639533.pdf', '66906212.pdf', '66683238.pdf', '69532425.pdf', '69005326.pdf', '90363254.pdf', '76196367.pdf', '74816727.pdf', '86322251.pdf', '58708773.pdf', '63391085.pdf', '62184086.pdf', '96547039.pdf', '70892619.pdf', '99244405.pdf', '86597425.pdf', '79663360.pdf']\n",
            "['10251432.pdf', '10076271.pdf', '10480456.pdf', '10062724.pdf', '10466208.pdf', '11704150.pdf', '11378657.pdf', '15680735.pdf', '20211577.pdf', '15499825.pdf', '13352113.pdf', '12938200.pdf', '19090468.pdf', '12333703.pdf', '16702198.pdf', '18714571.pdf', '17545780.pdf', '18484846.pdf', '20110597.pdf', '20748468.pdf', '17624934.pdf', '12315079.pdf', '13565152.pdf', '17960690.pdf', '20736486.pdf', '11605833.pdf', '18129173.pdf', '20172393.pdf', '10568183.pdf', '16132195.pdf', '17864043.pdf', '18365443.pdf', '12613221.pdf', '13575312.pdf', '22008817.pdf', '17539842.pdf', '14667957.pdf', '15636923.pdf', '16121387.pdf', '20835760.pdf', '17963031.pdf', '16356151.pdf', '11653906.pdf', '18949843.pdf', '21866029.pdf', '14062078.pdf', '18784594.pdf', '24025053.pdf', '24548333.pdf', '25834360.pdf', '23110214.pdf', '27030979.pdf', '36868767.pdf', '23918545.pdf', '29134372.pdf', '28670024.pdf', '26958533.pdf', '36861863.pdf', '23617240.pdf', '25328428.pdf', '23944036.pdf', '23138078.pdf', '25974844.pdf', '37001381.pdf', '29992154.pdf', '27090089.pdf', '31395710.pdf', '26585242.pdf', '33750209.pdf', '32563518.pdf', '25451319.pdf', '33803142.pdf', '28745844.pdf', '26695839.pdf', '23814777.pdf', '34594746.pdf', '24550866.pdf', '35422305.pdf', '28423028.pdf', '27917969.pdf', '31926950.pdf', '36625776.pdf', '26125407.pdf', '32219038.pdf', '34962725.pdf', '26908066.pdf', '35579812.pdf', '45907524.pdf', '98300955.pdf', '85417107.pdf', '85421438.pdf', '51777546.pdf', '95011061.pdf', '37374340.pdf', '60624892.pdf', '58879993.pdf', '75297735.pdf', '46349752.pdf', '54934269.pdf', '39082090.pdf', '47996197.pdf', '91478356.pdf', '56520872.pdf', '93988900.pdf', '98309114.pdf', '69199666.pdf', '87520378.pdf', '49325370.pdf', '41910253.pdf', '75744306.pdf', '64471954.pdf', '43994605.pdf', '80876647.pdf', '96260484.pdf', '97169343.pdf']\n",
            "['13477922.pdf', '14789139.pdf', '10840430.pdf', '10641230.pdf', '12635195.pdf', '13405733.pdf', '12045067.pdf', '15118506.pdf', '10247517.pdf', '11584809.pdf', '11957080.pdf', '15791766.pdf', '11580408.pdf', '10089434.pdf', '12334140.pdf', '10553553.pdf', '15297298.pdf', '10265057.pdf', '12763627.pdf', '13385306.pdf', '13836471.pdf', '10839851.pdf', '15651486.pdf', '15802627.pdf', '17681064.pdf', '18752129.pdf', '24083609.pdf', '25959103.pdf', '24038620.pdf', '17641670.pdf', '19796840.pdf', '20879311.pdf', '25207620.pdf', '18067556.pdf', '20674668.pdf', '25857360.pdf', '20824105.pdf', '19850482.pdf', '23527321.pdf', '18176523.pdf', '25905275.pdf', '24913648.pdf', '17111768.pdf', '16186411.pdf', '23666211.pdf', '20408458.pdf', '24889109.pdf', '18187364.pdf', '23864648.pdf', '24020470.pdf', '19201175.pdf', '20024870.pdf', '20001721.pdf', '18301617.pdf', '22776912.pdf', '22450718.pdf', '21780877.pdf', '21283365.pdf', '18159866.pdf', '24230851.pdf', '17987433.pdf', '20237244.pdf', '16899268.pdf', '16533554.pdf', '17688766.pdf', '40018190.pdf', '41344156.pdf', '37242217.pdf', '30223363.pdf', '29051656.pdf', '51639418.pdf', '35325329.pdf', '26801767.pdf', '46260230.pdf', '28035460.pdf', '37764298.pdf', '27058381.pdf', '39413067.pdf', '29975124.pdf', '28897981.pdf', '27770859.pdf', '36856210.pdf', '27372171.pdf', '38753827.pdf', '28697203.pdf', '25990239.pdf', '27295996.pdf', '52246737.pdf', '29075857.pdf', '27536013.pdf', '26480367.pdf', '33241454.pdf', '39718499.pdf', '26768723.pdf', '28126340.pdf', '31111279.pdf', '36434348.pdf', '32959732.pdf', '48037995.pdf', '33381211.pdf', '52618188.pdf', '26746496.pdf', '31243710.pdf', '51363762.pdf', '27485716.pdf', '28672970.pdf', '90867631.pdf', '66832845.pdf', '91121135.pdf', '83816738.pdf', '79541391.pdf', '64017585.pdf', '91697974.pdf', '68460556.pdf', '57002858.pdf', '92069209.pdf', '91635250.pdf', '81761658.pdf', '89413122.pdf', '70089206.pdf']\n",
            "['20275356.pdf', '17392859.pdf', '14722634.pdf', '11877150.pdf', '17880988.pdf', '19405513.pdf', '15891494.pdf', '20969845.pdf', '20705888.pdf', '20977412.pdf', '20836112.pdf', '19540089.pdf', '18640927.pdf', '18024825.pdf', '20918464.pdf', '14413148.pdf', '16449850.pdf', '17775916.pdf', '15717923.pdf', '14408510.pdf', '18636651.pdf', '11441764.pdf', '18072085.pdf', '14181049.pdf', '15792052.pdf', '19147603.pdf', '10549585.pdf', '11490673.pdf', '19243556.pdf', '12071138.pdf', '14106638.pdf', '20880935.pdf', '15011085.pdf', '12858898.pdf', '16426777.pdf', '18975686.pdf', '15224503.pdf', '21912637.pdf', '24411323.pdf', '28396458.pdf', '25497147.pdf', '28398216.pdf', '28623782.pdf', '26961846.pdf', '26530575.pdf', '26767199.pdf', '29494962.pdf', '24553863.pdf', '22492537.pdf', '27789372.pdf', '23955183.pdf', '25678238.pdf', '29612672.pdf', '25330083.pdf', '23573064.pdf', '28522529.pdf', '22720697.pdf', '22622351.pdf', '29648950.pdf', '27409087.pdf', '24833063.pdf', '24967652.pdf', '23354541.pdf', '28724469.pdf', '24670867.pdf', '28758002.pdf', '26013403.pdf', '27330027.pdf', '27914096.pdf', '24611721.pdf', '25101183.pdf', '28973180.pdf', '27018361.pdf', '24854026.pdf', '24530382.pdf', '26750846.pdf', '26231609.pdf', '81217013.pdf', '93653247.pdf', '33685988.pdf', '34250007.pdf', '47410104.pdf', '39675895.pdf', '57088974.pdf', '70541112.pdf', '69487178.pdf', '98513424.pdf', '86595128.pdf', '61634281.pdf', '59938965.pdf', '81677620.pdf', '77638654.pdf', '38441665.pdf', '74512244.pdf', '91564103.pdf', '66741193.pdf', '62850928.pdf', '59777056.pdf', '88038965.pdf', '84356308.pdf', '92524964.pdf', '74849878.pdf', '84373843.pdf', '37931076.pdf', '76454959.pdf', '38907798.pdf', '59450123.pdf', '39295103.pdf', '86549455.pdf', '78229715.pdf', '31948488.pdf', '48285304.pdf', '95519832.pdf', '59818742.pdf', '58165257.pdf', '29998869.pdf', '38225199.pdf', '72136463.pdf']\n",
            "['16803215.pdf', '10030015.pdf', '15858254.pdf', '15941675.pdf', '19124258.pdf', '10219099.pdf', '14049846.pdf', '12011623.pdf', '10985403.pdf', '12022566.pdf', '19553067.pdf', '14554542.pdf', '16911115.pdf', '10624813.pdf', '12518008.pdf', '15139979.pdf', '12488356.pdf', '14206561.pdf', '19397727.pdf', '13264796.pdf', '13149176.pdf', '18753367.pdf', '12748557.pdf', '10712803.pdf', '17108676.pdf', '12472574.pdf', '11890896.pdf', '17926546.pdf', '11981094.pdf', '17103000.pdf', '17043822.pdf', '17488801.pdf', '15601399.pdf', '19396040.pdf', '28628090.pdf', '27152464.pdf', '25425322.pdf', '24322804.pdf', '28005884.pdf', '30097175.pdf', '25608963.pdf', '23497307.pdf', '27040860.pdf', '25919149.pdf', '24647794.pdf', '28923650.pdf', '30288581.pdf', '19612167.pdf', '21298336.pdf', '23438227.pdf', '28630325.pdf', '28762662.pdf', '25797445.pdf', '20981299.pdf', '26834746.pdf', '28320387.pdf', '23234047.pdf', '21038022.pdf', '28631840.pdf', '27756469.pdf', '21629057.pdf', '30542184.pdf', '28505854.pdf', '25930778.pdf', '28078163.pdf', '28831378.pdf', '31677347.pdf', '20566550.pdf', '21847415.pdf', '20882041.pdf', '21807224.pdf', '22890839.pdf', '22605864.pdf', '26456899.pdf', '86209934.pdf', '31694970.pdf', '39835894.pdf', '37335325.pdf', '31684925.pdf', '32802563.pdf', '49127329.pdf', '35172961.pdf', '33685075.pdf', '62071407.pdf', '32081266.pdf', '35389360.pdf', '50328713.pdf', '38220146.pdf', '77828437.pdf', '82125182.pdf', '32985311.pdf', '56691064.pdf', '61579998.pdf', '47549345.pdf', '60004873.pdf', '38314236.pdf', '35737840.pdf', '82246962.pdf', '55953734.pdf', '64468610.pdf', '47919212.pdf', '38535335.pdf', '51588273.pdf', '36149549.pdf', '64755882.pdf', '39855211.pdf', '36517781.pdf', '81125166.pdf', '47276718.pdf', '44624796.pdf', '35651876.pdf', '43752620.pdf', '55595908.pdf', '54227873.pdf', '74236636.pdf', '86828820.pdf', '96029688.pdf', '90280583.pdf']\n",
            "['10554045.pdf', '14910300.pdf', '14278888.pdf', '14364597.pdf', '14966165.pdf', '11902276.pdf', '11624880.pdf', '12237267.pdf', '12191094.pdf', '12567516.pdf', '11842274.pdf', '13727873.pdf', '14009087.pdf', '10070224.pdf', '13129275.pdf', '12545844.pdf', '14128006.pdf', '14667659.pdf', '12920612.pdf', '11635137.pdf', '11850315.pdf', '10926726.pdf', '11160414.pdf', '10873344.pdf', '14611516.pdf', '13915715.pdf', '14536764.pdf', '23143731.pdf', '19929506.pdf', '25070914.pdf', '25001005.pdf', '22455205.pdf', '23771896.pdf', '19558834.pdf', '23015611.pdf', '21669215.pdf', '24590489.pdf', '19503224.pdf', '24977396.pdf', '21297828.pdf', '21663616.pdf', '26127853.pdf', '20966771.pdf', '16620172.pdf', '19497420.pdf', '21478007.pdf', '21386255.pdf', '22861181.pdf', '24677466.pdf', '24710433.pdf', '22754014.pdf', '18133495.pdf', '24559558.pdf', '16226743.pdf', '25413261.pdf', '21321598.pdf', '18436190.pdf', '16103783.pdf', '20470943.pdf', '21549195.pdf', '23631724.pdf', '24491862.pdf', '23602130.pdf', '15917885.pdf', '23673025.pdf', '22560013.pdf', '23048999.pdf', '19072267.pdf', '28862054.pdf', '37913536.pdf', '30642458.pdf', '31392754.pdf', '49119887.pdf', '26130673.pdf', '53701275.pdf', '31292364.pdf', '42332765.pdf', '37375999.pdf', '38056161.pdf', '45462344.pdf', '41590605.pdf', '36671891.pdf', '37087371.pdf', '28831442.pdf', '88651471.pdf', '29329075.pdf', '28531493.pdf', '85973397.pdf', '85766635.pdf', '27257013.pdf', '65237556.pdf', '31220062.pdf', '32441790.pdf', '34712719.pdf', '28975482.pdf', '36107065.pdf', '61319162.pdf', '31211074.pdf', '28290448.pdf', '51415089.pdf', '33072201.pdf', '91197243.pdf', '29525715.pdf', '26330995.pdf', '26173524.pdf', '27000192.pdf', '75329822.pdf', '59346975.pdf', '45900271.pdf', '93828034.pdf', '98086373.pdf']\n",
            "['19156751.pdf', '13637605.pdf', '14381464.pdf', '15973307.pdf', '15581242.pdf', '16511249.pdf', '10724818.pdf', '15765660.pdf', '13348915.pdf', '12082377.pdf', '12820557.pdf', '18062906.pdf', '18885231.pdf', '10898339.pdf', '17378327.pdf', '17781039.pdf', '10138632.pdf', '12696104.pdf', '14267489.pdf', '18328743.pdf', '13812481.pdf', '12351749.pdf', '10603337.pdf', '17410700.pdf', '18368613.pdf', '15918496.pdf', '15620421.pdf', '19147494.pdf', '14358578.pdf', '10464113.pdf', '16121015.pdf', '15273850.pdf', '16223371.pdf', '19147947.pdf', '16280971.pdf', '17704246.pdf', '18171955.pdf', '17509935.pdf', '13178604.pdf', '20141807.pdf', '28377361.pdf', '20819838.pdf', '20423658.pdf', '28139742.pdf', '26530696.pdf', '24610685.pdf', '20552814.pdf', '26425074.pdf', '27233183.pdf', '25810233.pdf', '30083943.pdf', '26994282.pdf', '23032182.pdf', '23782450.pdf', '29134721.pdf', '27607632.pdf', '25839123.pdf', '29928796.pdf', '29211919.pdf', '19582792.pdf', '23760084.pdf', '25315791.pdf', '30529547.pdf', '29805310.pdf', '27624540.pdf', '22319662.pdf', '26932091.pdf', '29184740.pdf', '28198029.pdf', '19473948.pdf', '23929500.pdf', '22047665.pdf', '29815762.pdf', '29399491.pdf', '28867567.pdf', '21595057.pdf', '23296286.pdf', '29332616.pdf', '30608780.pdf', '36970996.pdf', '98509238.pdf', '59422148.pdf', '55104715.pdf', '31454430.pdf', '70528646.pdf', '36904300.pdf', '37540732.pdf', '58428843.pdf', '85918100.pdf', '71772815.pdf', '98108571.pdf', '33236701.pdf', '34303500.pdf', '31199035.pdf', '39581020.pdf', '42304307.pdf', '90682785.pdf', '55477468.pdf', '36621169.pdf', '69155584.pdf', '37792474.pdf', '65456466.pdf', '34131484.pdf', '92200491.pdf', '55097118.pdf', '79376680.pdf', '33578873.pdf', '38087844.pdf', '51349448.pdf', '37360517.pdf', '36074301.pdf', '87118391.pdf', '40987524.pdf', '54101961.pdf', '37735467.pdf', '32140087.pdf']\n",
            "['11005406.pdf', '10515955.pdf', '12085736.pdf', '11270462.pdf', '11677012.pdf', '10005171.pdf', '13328680.pdf', '13343786.pdf', '22706174.pdf', '20628003.pdf', '16276121.pdf', '17432318.pdf', '14761906.pdf', '14945250.pdf', '16893572.pdf', '18905648.pdf', '19861776.pdf', '15226699.pdf', '18488289.pdf', '13837784.pdf', '18501746.pdf', '23085604.pdf', '20330739.pdf', '17584743.pdf', '15484097.pdf', '18525641.pdf', '14209965.pdf', '13503650.pdf', '15353911.pdf', '21125113.pdf', '17132168.pdf', '18442517.pdf', '23864858.pdf', '19444529.pdf', '22380187.pdf', '19053815.pdf', '14771530.pdf', '18900722.pdf', '17562754.pdf', '18927233.pdf', '16536141.pdf', '23810469.pdf', '16509761.pdf', '18354623.pdf', '20210676.pdf', '14036515.pdf', '14556869.pdf', '20490741.pdf', '33542483.pdf', '30864828.pdf', '25723793.pdf', '26160200.pdf', '26341987.pdf', '34319869.pdf', '27981289.pdf', '28679359.pdf', '40311088.pdf', '37739183.pdf', '70196518.pdf', '29002596.pdf', '40883703.pdf', '30504149.pdf', '24658786.pdf', '42156237.pdf', '56952849.pdf', '30999638.pdf', '73282756.pdf', '27921561.pdf', '31162167.pdf', '31929166.pdf', '24679149.pdf', '24574164.pdf', '62700506.pdf', '39166680.pdf', '25525152.pdf', '24953921.pdf', '29915354.pdf', '58915642.pdf', '25706337.pdf', '50219114.pdf', '34583750.pdf', '31909493.pdf', '25038571.pdf', '28609364.pdf', '27080812.pdf', '59011090.pdf', '28109594.pdf', '33893326.pdf', '27419236.pdf', '91318828.pdf', '81508860.pdf', '94492380.pdf', '80679862.pdf', '90685127.pdf', '82929064.pdf', '91539554.pdf']\n",
            "['11592605.pdf', '11763983.pdf', '14256329.pdf', '10399912.pdf', '13879043.pdf', '11480899.pdf', '11698189.pdf', '14225422.pdf', '10694288.pdf', '12786012.pdf', '13520837.pdf', '11847784.pdf', '13376919.pdf', '19616406.pdf', '17422560.pdf', '23155093.pdf', '17812897.pdf', '17855844.pdf', '22323967.pdf', '23914451.pdf', '16861758.pdf', '15576950.pdf', '18316239.pdf', '19867922.pdf', '21265194.pdf', '18084150.pdf', '23408537.pdf', '19336728.pdf', '18557164.pdf', '19179079.pdf', '18827609.pdf', '16852973.pdf', '18731098.pdf', '18297650.pdf', '18155310.pdf', '17150707.pdf', '20417897.pdf', '14886205.pdf', '20993320.pdf', '15375009.pdf', '18334783.pdf', '17412079.pdf', '24184357.pdf', '15041689.pdf', '19717385.pdf', '16877897.pdf', '23510685.pdf', '20925036.pdf', '15575117.pdf', '18422164.pdf', '21830565.pdf', '14640322.pdf', '20806155.pdf', '34554248.pdf', '30563572.pdf', '29297973.pdf', '25676643.pdf', '25824789.pdf', '27165830.pdf', '28175164.pdf', '28640735.pdf', '29091445.pdf', '26671167.pdf', '26289308.pdf', '32947778.pdf', '27496514.pdf', '39081840.pdf', '25150191.pdf', '28419173.pdf', '39970711.pdf', '32308556.pdf', '33176873.pdf', '32977530.pdf', '26780935.pdf', '25724495.pdf', '28808263.pdf', '34740556.pdf', '32896934.pdf', '27847081.pdf', '30862904.pdf', '27523575.pdf', '30163002.pdf', '26048718.pdf', '27490876.pdf', '29564653.pdf', '27018550.pdf', '26202430.pdf', '30646367.pdf', '28828844.pdf', '24402267.pdf', '24508725.pdf', '29149998.pdf', '39650734.pdf', '41523474.pdf', '49937469.pdf', '73077810.pdf', '86184722.pdf', '93112113.pdf', '91930382.pdf', '80162314.pdf', '93002334.pdf', '59962788.pdf', '51769822.pdf', '87968870.pdf', '72231872.pdf', '44476983.pdf', '57667857.pdf', '52979663.pdf', '46258701.pdf', '47470864.pdf']\n",
            "['51508889.pdf', '82140102.pdf', '15210069.pdf', '47487091.pdf', '18448085.pdf', '28790806.pdf', '91515108.pdf', '14455622.pdf', '22946204.pdf', '23009962.pdf', '22732234.pdf', '11257723.pdf', '14508237.pdf', '63989974.pdf', '11152490.pdf', '15100547.pdf', '26341645.pdf', '15484011.pdf', '17571262.pdf', '24592627.pdf', '17510973.pdf', '18932512.pdf', '25047127.pdf', '11797122.pdf', '11887930.pdf', '32109048.pdf', '78357954.pdf', '84295343.pdf', '23522150.pdf', '22452756.pdf', '24703983.pdf', '15790602.pdf', '32069695.pdf', '16332293.pdf', '97449528.pdf', '99680385.pdf']\n",
            "['18589927.pdf', '19362586.pdf', '31064969.pdf', '63158213.pdf', '95625660.pdf', '16492045.pdf', '38707449.pdf', '26829350.pdf', '41152404.pdf', '69097572.pdf', '13964744.pdf', '30709029.pdf', '15145575.pdf', '11183737.pdf', '24727739.pdf', '23933031.pdf', '89512321.pdf', '45077654.pdf', '79261033.pdf', '57706851.pdf', '27710853.pdf', '15573418.pdf']\n",
            "['10235211.pdf', '12230301.pdf', '12632728.pdf', '12377803.pdf', '11088337.pdf', '10704573.pdf', '10289113.pdf', '10228751.pdf', '10501991.pdf', '12059198.pdf', '10541358.pdf', '12546838.pdf', '11551946.pdf', '11289482.pdf', '20357858.pdf', '14861855.pdf', '17115815.pdf', '18293620.pdf', '13574264.pdf', '18937778.pdf', '19557384.pdf', '16694152.pdf', '17095812.pdf', '15423153.pdf', '16846478.pdf', '19738730.pdf', '17602815.pdf', '17421910.pdf', '13888506.pdf', '14752209.pdf', '17597372.pdf', '13080868.pdf', '18311419.pdf', '14287992.pdf', '14055971.pdf', '14726000.pdf', '16091352.pdf', '17730889.pdf', '15233524.pdf', '14825300.pdf', '12814706.pdf', '14871762.pdf', '14990354.pdf', '18236085.pdf', '14070138.pdf', '13199813.pdf', '16519708.pdf', '20427934.pdf', '15811992.pdf', '20317319.pdf', '14241621.pdf', '18757174.pdf', '27219200.pdf', '32385553.pdf', '32531824.pdf', '29908929.pdf', '27375577.pdf', '28337049.pdf', '30938994.pdf', '27139412.pdf', '29825044.pdf', '26278597.pdf', '31638814.pdf', '22423839.pdf', '26896699.pdf', '25397102.pdf', '27850777.pdf', '29208172.pdf', '27004930.pdf', '23568641.pdf', '34046031.pdf', '26581830.pdf', '27796199.pdf', '20633855.pdf', '22025574.pdf', '27213082.pdf', '24647386.pdf', '33424600.pdf', '22765255.pdf', '32042584.pdf', '20553895.pdf', '25813953.pdf', '25370801.pdf', '31813535.pdf', '24412546.pdf', '23396633.pdf', '31273310.pdf', '28916894.pdf', '27937592.pdf', '24964303.pdf', '20748929.pdf', '29014805.pdf', '36170003.pdf', '80275976.pdf', '90629382.pdf', '98379112.pdf', '37391947.pdf', '39237915.pdf', '79759716.pdf', '40792022.pdf', '59696315.pdf', '67501448.pdf', '82118447.pdf', '91467795.pdf', '77576845.pdf', '38007664.pdf', '81310245.pdf', '38688388.pdf', '47067533.pdf', '95382114.pdf', '36805025.pdf', '36574147.pdf', '76916835.pdf', '65708020.pdf', '35673335.pdf', '61677751.pdf', '34797369.pdf', '39875803.pdf', '89197180.pdf', '37521676.pdf']\n",
            "['12386670.pdf', '14248724.pdf', '15265464.pdf', '13272204.pdf', '12413512.pdf', '15306049.pdf', '16244633.pdf', '11995013.pdf', '11555549.pdf', '12334650.pdf', '16962067.pdf', '14150896.pdf', '10830646.pdf', '14879257.pdf', '17033567.pdf', '11187796.pdf', '12777487.pdf', '11360471.pdf', '16887936.pdf', '17325147.pdf', '19671909.pdf', '18106533.pdf', '25926667.pdf', '26410763.pdf', '24349611.pdf', '23139437.pdf', '22848179.pdf', '21867728.pdf', '22593054.pdf', '25561640.pdf', '20149476.pdf', '22800977.pdf', '17694454.pdf', '26069113.pdf', '18029935.pdf', '21060367.pdf', '20148147.pdf', '22182279.pdf', '25923361.pdf', '19508520.pdf', '24983760.pdf', '20488267.pdf', '18586076.pdf', '27024099.pdf', '24061629.pdf', '23752500.pdf', '20698469.pdf', '18885767.pdf', '21809601.pdf', '23917826.pdf', '19724031.pdf', '17857644.pdf', '26079779.pdf', '20356750.pdf', '18319061.pdf', '27096796.pdf', '25157655.pdf', '27164756.pdf', '54100393.pdf', '31273413.pdf', '37220856.pdf', '38115035.pdf', '34146825.pdf', '32794700.pdf', '41950126.pdf', '32318506.pdf', '73030450.pdf', '34304175.pdf', '28471099.pdf', '43622023.pdf', '73497035.pdf', '79432080.pdf', '28629430.pdf', '31114531.pdf', '36379931.pdf', '37751611.pdf', '46055835.pdf', '53227466.pdf', '29148871.pdf', '36758947.pdf', '39470264.pdf', '39608848.pdf', '66226673.pdf', '28325193.pdf', '36019469.pdf', '39064638.pdf', '37472265.pdf', '28711616.pdf', '65352424.pdf', '54180474.pdf', '78107631.pdf', '27715131.pdf', '30594821.pdf', '65325317.pdf', '50432401.pdf', '33344933.pdf', '27936502.pdf', '99561379.pdf', '94230796.pdf', '83338413.pdf', '99033098.pdf', '93576192.pdf', '83206166.pdf']\n",
            "['10889157.pdf', '10588874.pdf', '11121498.pdf', '10001727.pdf', '11209758.pdf', '11432686.pdf', '12155206.pdf', '11444536.pdf', '10333299.pdf', '10276858.pdf', '10653119.pdf', '12254068.pdf', '12420359.pdf', '16594812.pdf', '16066857.pdf', '21869994.pdf', '21511817.pdf', '16804396.pdf', '16924102.pdf', '19285236.pdf', '13212436.pdf', '16248476.pdf', '19007667.pdf', '21904897.pdf', '15354126.pdf', '13095891.pdf', '15261348.pdf', '23032276.pdf', '12717345.pdf', '13264154.pdf', '19951766.pdf', '18825446.pdf', '16855929.pdf', '18480859.pdf', '20691949.pdf', '21611637.pdf', '21622444.pdf', '20321582.pdf', '14569498.pdf', '20033302.pdf', '23185829.pdf', '19831366.pdf', '23398733.pdf', '15180322.pdf', '21334981.pdf', '22561438.pdf', '22349169.pdf', '14663897.pdf', '13411858.pdf', '20817322.pdf', '21101152.pdf', '18036030.pdf', '19268120.pdf', '27298953.pdf', '31547476.pdf', '28176889.pdf', '26189601.pdf', '29449419.pdf', '30826569.pdf', '24673903.pdf', '27820360.pdf', '26718039.pdf', '23841877.pdf', '23807940.pdf', '29775391.pdf', '28396528.pdf', '29072179.pdf', '27662298.pdf', '24709432.pdf', '32605413.pdf', '30337969.pdf', '30311202.pdf', '29772450.pdf', '28092317.pdf', '25924968.pdf', '23591247.pdf', '34252537.pdf', '30128072.pdf', '35157762.pdf', '29211359.pdf', '29784524.pdf', '25452321.pdf', '27909372.pdf', '24221960.pdf', '33964275.pdf', '27831220.pdf', '34452806.pdf', '32518109.pdf', '23568731.pdf', '28230807.pdf', '25128608.pdf', '29990140.pdf', '25953797.pdf', '28424982.pdf', '53265899.pdf', '94047639.pdf', '92122785.pdf', '47729453.pdf', '51554903.pdf', '81373857.pdf', '35468363.pdf', '86551046.pdf', '47317494.pdf', '36366044.pdf', '57262959.pdf', '38309905.pdf', '92985983.pdf', '65373280.pdf', '91268638.pdf', '74522938.pdf', '37231163.pdf', '91072502.pdf', '48580330.pdf', '61322296.pdf', '91591026.pdf', '62555739.pdf', '68338341.pdf', '47603843.pdf']\n",
            "['18979238.pdf', '10466583.pdf', '13557622.pdf', '15425154.pdf', '19195747.pdf', '11807040.pdf', '14528265.pdf', '18835363.pdf', '13774329.pdf', '14743911.pdf', '14724186.pdf', '16288901.pdf', '12674307.pdf', '17555081.pdf', '12415691.pdf', '15471999.pdf', '18460045.pdf', '12547982.pdf', '11919526.pdf', '11722421.pdf', '18198627.pdf', '10751444.pdf', '17199951.pdf', '13998435.pdf', '13014900.pdf', '10748989.pdf', '18795567.pdf', '20390397.pdf', '14014749.pdf', '15936656.pdf', '11155153.pdf', '19164410.pdf', '11958994.pdf', '13518263.pdf', '21283733.pdf', '26942552.pdf', '29865476.pdf', '32532982.pdf', '23951429.pdf', '20986595.pdf', '25422388.pdf', '29524570.pdf', '22506245.pdf', '26622051.pdf', '26046064.pdf', '27497542.pdf', '24455357.pdf', '32954522.pdf', '26790545.pdf', '26924514.pdf', '28663949.pdf', '21916744.pdf', '26503829.pdf', '34051710.pdf', '24655918.pdf', '26496059.pdf', '20748926.pdf', '22675694.pdf', '30968749.pdf', '25061645.pdf', '26676567.pdf', '34317538.pdf', '27529455.pdf', '20932019.pdf', '24285142.pdf', '28326441.pdf', '22567495.pdf', '24583187.pdf', '21705160.pdf', '22496394.pdf', '30965258.pdf', '25023614.pdf', '25949631.pdf', '29147100.pdf', '62312955.pdf', '76010167.pdf', '51018476.pdf', '67582956.pdf', '39252859.pdf', '41506705.pdf', '51681660.pdf', '38744475.pdf', '42384185.pdf', '93301686.pdf', '38565119.pdf', '44145704.pdf', '94417768.pdf', '44185767.pdf', '90066849.pdf', '91153752.pdf', '54201930.pdf', '39434376.pdf', '67645662.pdf', '37695494.pdf', '34657584.pdf', '37263609.pdf', '35990852.pdf', '81011612.pdf', '37664296.pdf', '78149576.pdf', '68240723.pdf', '36269672.pdf', '37058472.pdf', '85101052.pdf', '34349255.pdf', '39776400.pdf', '34511655.pdf']\n",
            "['13173522.pdf', '14626780.pdf', '15856762.pdf', '18369400.pdf', '11266906.pdf', '14391434.pdf', '18824120.pdf', '17189156.pdf', '11773925.pdf', '19149865.pdf', '13982572.pdf', '18208580.pdf', '11672279.pdf', '13393401.pdf', '16407619.pdf', '10909673.pdf', '17131084.pdf', '15553584.pdf', '10329506.pdf', '11842348.pdf', '11262933.pdf', '18645964.pdf', '17276884.pdf', '18805506.pdf', '16300459.pdf', '11065180.pdf', '18457785.pdf', '18278509.pdf', '17396388.pdf', '11637468.pdf', '17818707.pdf', '17823436.pdf', '17213671.pdf', '12021752.pdf', '18172739.pdf', '27884470.pdf', '25162378.pdf', '22615491.pdf', '30713796.pdf', '29093426.pdf', '28051330.pdf', '30127072.pdf', '25080805.pdf', '24580361.pdf', '28419927.pdf', '25624652.pdf', '20992320.pdf', '31025785.pdf', '29406313.pdf', '27606527.pdf', '25780596.pdf', '19920687.pdf', '29839396.pdf', '26673507.pdf', '26987539.pdf', '19911786.pdf', '21756639.pdf', '21856577.pdf', '23323001.pdf', '19176318.pdf', '20850529.pdf', '19437318.pdf', '29552167.pdf', '25200253.pdf', '21796843.pdf', '28989677.pdf', '28895997.pdf', '19374660.pdf', '31710562.pdf', '26579709.pdf', '21297521.pdf', '21645690.pdf', '27120528.pdf', '33872500.pdf', '54421668.pdf', '60489316.pdf', '33286293.pdf', '39142536.pdf', '41651672.pdf', '35492909.pdf', '34185495.pdf', '74552449.pdf', '32980197.pdf', '39569771.pdf', '36905896.pdf', '34953092.pdf', '35564026.pdf', '43375498.pdf', '60182829.pdf', '45167858.pdf', '34758680.pdf', '39247950.pdf', '87867370.pdf', '72876163.pdf', '71422121.pdf', '77156708.pdf', '64589506.pdf', '36302399.pdf', '3547447.pdf', '65864767.pdf', '34783330.pdf', '79041971.pdf', '89049979.pdf', '69243180.pdf', '68781345.pdf', '33370664.pdf', '35483925.pdf', '33135102.pdf', '73157997.pdf', '70667011.pdf', '38897568.pdf', '98965485.pdf', '99124477.pdf', '96493528.pdf', '98348532.pdf']\n",
            "['12239749.pdf', '17274759.pdf', '15618327.pdf', '11804712.pdf', '13195436.pdf', '17655479.pdf', '17483843.pdf', '17008356.pdf', '16833515.pdf', '16449694.pdf', '12904972.pdf', '10567764.pdf', '16279537.pdf', '12043694.pdf', '11137306.pdf', '11614114.pdf', '14790629.pdf', '11169163.pdf', '14589288.pdf', '10189110.pdf', '12192507.pdf', '16850314.pdf', '13405229.pdf', '14874322.pdf', '12504278.pdf', '15823995.pdf', '10395944.pdf', '12144825.pdf', '11752500.pdf', '11959428.pdf', '10945968.pdf', '13234267.pdf', '15684810.pdf', '10176815.pdf', '11333001.pdf', '17152392.pdf', '23464505.pdf', '23985183.pdf', '24589765.pdf', '29221006.pdf', '19506295.pdf', '18268860.pdf', '24154692.pdf', '24668861.pdf', '17876954.pdf', '24544244.pdf', '19284293.pdf', '17694572.pdf', '22232367.pdf', '17983430.pdf', '26888302.pdf', '28020046.pdf', '17686472.pdf', '25719936.pdf', '27902692.pdf', '19818707.pdf', '29167286.pdf', '22168194.pdf', '25718772.pdf', '26819872.pdf', '28186635.pdf', '22442947.pdf', '20026169.pdf', '26279402.pdf', '28383893.pdf', '25625173.pdf', '21190805.pdf', '27502951.pdf', '24773845.pdf', '23761385.pdf', '27512470.pdf', '21287405.pdf', '29161565.pdf', '22650051.pdf', '22990761.pdf', '30148777.pdf', '68216398.pdf', '92283635.pdf', '91431878.pdf', '81588968.pdf', '38663892.pdf', '38047274.pdf', '31536294.pdf', '67631413.pdf', '43408471.pdf', '32720816.pdf', '38355831.pdf', '29534737.pdf', '54232810.pdf', '70198580.pdf', '34419403.pdf', '42641525.pdf', '38154903.pdf', '43720116.pdf', '33627938.pdf', '65219288.pdf', '29595906.pdf', '49646155.pdf', '38989376.pdf', '36727173.pdf', '37473139.pdf', '50775901.pdf', '61315605.pdf', '87826037.pdf', '42427521.pdf', '77626587.pdf', '58048626.pdf', '36252245.pdf', '31605080.pdf', '82738323.pdf', '42546558.pdf', '69458502.pdf', '90318913.pdf', '94137171.pdf', '96457008.pdf', '99416532.pdf', '98389424.pdf']\n",
            "['12212468.pdf', '10734870.pdf', '10820510.pdf', '10149490.pdf', '10041713.pdf', '11650031.pdf', '12491898.pdf', '12666174.pdf', '12693146.pdf', '12826414.pdf', '10176013.pdf', '10281555.pdf', '12839152.pdf', '12654876.pdf', '12695537.pdf', '10100240.pdf', '11393213.pdf', '16203589.pdf', '18882984.pdf', '22894544.pdf', '20565849.pdf', '24770846.pdf', '25098739.pdf', '14849103.pdf', '17570634.pdf', '20681037.pdf', '17252448.pdf', '25224998.pdf', '18472240.pdf', '21782152.pdf', '16353584.pdf', '19928941.pdf', '14900898.pdf', '23818675.pdf', '19471144.pdf', '17342969.pdf', '21567392.pdf', '16924279.pdf', '15721849.pdf', '22546476.pdf', '25187733.pdf', '21586858.pdf', '25656981.pdf', '24740005.pdf', '24953126.pdf', '16626724.pdf', '21363048.pdf', '22019500.pdf', '13907230.pdf', '24361598.pdf', '16378091.pdf', '22965804.pdf', '22983516.pdf', '15564893.pdf', '12890045.pdf', '19364677.pdf', '22718826.pdf', '14585273.pdf', '30397268.pdf', '33141415.pdf', '28803888.pdf', '29878348.pdf', '38946032.pdf', '27243670.pdf', '29894080.pdf', '36331163.pdf', '49685006.pdf', '32799518.pdf', '27835351.pdf', '28756444.pdf', '28815362.pdf', '29483501.pdf', '39908485.pdf', '29574501.pdf', '28942221.pdf', '35971546.pdf', '27246366.pdf', '28949406.pdf', '32773331.pdf', '31850269.pdf', '48549972.pdf', '32265203.pdf', '30311725.pdf', '27066370.pdf', '29087505.pdf', '44147689.pdf', '27187994.pdf', '29061628.pdf', '33023370.pdf', '26509539.pdf', '34544955.pdf', '29193505.pdf', '39674782.pdf', '45475027.pdf', '39027764.pdf', '39566718.pdf', '26091595.pdf', '32025286.pdf', '93436805.pdf', '78114950.pdf', '71576860.pdf', '78298706.pdf', '99433371.pdf', '61065616.pdf', '63145386.pdf', '63083944.pdf', '94503308.pdf', '56525735.pdf', '51638201.pdf', '90032884.pdf', '88859947.pdf', '69764348.pdf']\n",
            "['15281412.pdf', '10984392.pdf', '12897903.pdf', '15433732.pdf', '15083600.pdf', '13569152.pdf', '12251115.pdf', '14346702.pdf', '13313917.pdf', '11020140.pdf', '13454871.pdf', '14593060.pdf', '15535920.pdf', '15602094.pdf', '13586069.pdf', '11415967.pdf', '12526702.pdf', '10332998.pdf', '16964217.pdf', '11333660.pdf', '12955994.pdf', '12374933.pdf', '13215696.pdf', '15699744.pdf', '15119529.pdf', '11835339.pdf', '14517953.pdf', '27788376.pdf', '27096471.pdf', '22351830.pdf', '25213006.pdf', '27726066.pdf', '17025292.pdf', '24828381.pdf', '22259768.pdf', '18856440.pdf', '26291616.pdf', '29723311.pdf', '20314980.pdf', '18079050.pdf', '21366189.pdf', '25258040.pdf', '21156767.pdf', '26234972.pdf', '21568833.pdf', '25694422.pdf', '29297393.pdf', '29196643.pdf', '22556198.pdf', '19161572.pdf', '29647215.pdf', '17983957.pdf', '22571461.pdf', '18227306.pdf', '26919036.pdf', '23302948.pdf', '20176584.pdf', '28243590.pdf', '24643412.pdf', '22485475.pdf', '28951817.pdf', '19936735.pdf', '20574232.pdf', '26167298.pdf', '21512769.pdf', '17307206.pdf', '29076405.pdf', '38896303.pdf', '78016758.pdf', '32637306.pdf', '43378989.pdf', '57601040.pdf', '31217840.pdf', '91189201.pdf', '88691367.pdf', '51432451.pdf', '31016926.pdf', '88907739.pdf', '57364820.pdf', '33919379.pdf', '39441617.pdf', '37818861.pdf', '38399177.pdf', '34875813.pdf', '71888547.pdf', '29770086.pdf', '51724595.pdf', '30863060.pdf', '39308779.pdf', '69181350.pdf', '31395742.pdf', '73075521.pdf', '49777184.pdf', '67406885.pdf', '38457612.pdf', '91116867.pdf', '63670997.pdf', '38165833.pdf', '32433431.pdf', '30083884.pdf', '48533663.pdf', '43311839.pdf', '79570655.pdf', '31201660.pdf', '56792999.pdf', '80527194.pdf', '31169070.pdf', '65062795.pdf', '95792386.pdf', '95350373.pdf', '95429627.pdf', '93349646.pdf', '92246939.pdf', '99714410.pdf', '93459677.pdf']\n",
            "['12202337.pdf', '15821633.pdf', '15289348.pdf', '15363277.pdf', '14470533.pdf', '13701259.pdf', '14224370.pdf', '14449423.pdf', '14055988.pdf', '12065211.pdf', '10554236.pdf', '15592167.pdf', '10674770.pdf', '12780508.pdf', '12802330.pdf', '13294301.pdf', '15906625.pdf', '14126433.pdf', '13491889.pdf', '13072019.pdf', '14496667.pdf', '11163645.pdf', '12442909.pdf', '12338274.pdf', '11759079.pdf', '13130984.pdf', '14491649.pdf', '24294778.pdf', '22465498.pdf', '24703009.pdf', '17407184.pdf', '21338490.pdf', '18635654.pdf', '25127518.pdf', '20393721.pdf', '21853199.pdf', '24817041.pdf', '18132924.pdf', '19446337.pdf', '23387174.pdf', '23139819.pdf', '23438112.pdf', '18669563.pdf', '17556527.pdf', '25067742.pdf', '18365791.pdf', '23246831.pdf', '25462793.pdf', '17306905.pdf', '23416654.pdf', '22925443.pdf', '20253563.pdf', '23734441.pdf', '21794875.pdf', '16237710.pdf', '24103168.pdf', '23636277.pdf', '24799301.pdf', '23513618.pdf', '21031285.pdf', '19545827.pdf', '20082776.pdf', '18569929.pdf', '21763056.pdf', '20345168.pdf', '20624984.pdf', '28614791.pdf', '30813919.pdf', '38847011.pdf', '27637576.pdf', '25867805.pdf', '31602598.pdf', '36425270.pdf', '37370455.pdf', '29050809.pdf', '30304575.pdf', '30361788.pdf', '25749150.pdf', '36024962.pdf', '43685045.pdf', '35554162.pdf', '27980446.pdf', '27558837.pdf', '37997506.pdf', '34816637.pdf', '28969385.pdf', '34198885.pdf', '26065877.pdf', '39115899.pdf', '28298773.pdf', '39674178.pdf', '25547145.pdf', '25846894.pdf', '49204385.pdf', '25862026.pdf', '28939941.pdf', '33527446.pdf', '29999135.pdf', '25935030.pdf', '28359817.pdf', '27573855.pdf', '42487883.pdf', '26975573.pdf', '29456173.pdf', '29821051.pdf', '53640713.pdf', '75286906.pdf', '62809577.pdf', '63137898.pdf', '59403481.pdf', '98559931.pdf', '49997097.pdf', '80053367.pdf', '87635012.pdf', '78403342.pdf', '50222417.pdf', '82649935.pdf', '78257294.pdf']\n",
            "['10182582.pdf', '16723524.pdf', '12059610.pdf', '20905088.pdf', '11677077.pdf', '14698557.pdf', '16391949.pdf', '21007083.pdf', '10562768.pdf', '13764840.pdf', '14937492.pdf', '10876132.pdf', '13807808.pdf', '12668625.pdf', '18509268.pdf', '15154822.pdf', '16915389.pdf', '13858219.pdf', '11232471.pdf', '19714635.pdf', '16605640.pdf', '14304010.pdf', '19402977.pdf', '12122372.pdf', '20504094.pdf', '17659053.pdf', '15479281.pdf', '15746146.pdf', '11409460.pdf', '16985289.pdf', '12860543.pdf', '17714174.pdf', '19070271.pdf', '14413257.pdf', '13386301.pdf', '10738095.pdf', '16500168.pdf', '12669075.pdf', '13418452.pdf', '15535408.pdf', '30430249.pdf', '36094883.pdf', '24533931.pdf', '26829561.pdf', '25142074.pdf', '31761591.pdf', '26046878.pdf', '31362807.pdf', '21807211.pdf', '35603950.pdf', '24989856.pdf', '27694040.pdf', '35121930.pdf', '27176039.pdf', '22249155.pdf', '29764492.pdf', '26586477.pdf', '30344127.pdf', '33665485.pdf', '29640922.pdf', '26691587.pdf', '27099856.pdf', '37750854.pdf', '29028935.pdf', '23190306.pdf', '22852364.pdf', '28998957.pdf', '35985133.pdf', '24516163.pdf', '26098594.pdf', '27549075.pdf', '31225895.pdf', '23719943.pdf', '21570485.pdf', '25543217.pdf', '35571205.pdf', '29521434.pdf', '27091280.pdf', '36136569.pdf', '50324968.pdf', '91533580.pdf', '41586420.pdf', '71499299.pdf', '54308684.pdf', '91026230.pdf', '83566455.pdf', '52252936.pdf', '56025640.pdf', '99806115.pdf', '70750649.pdf', '72807293.pdf', '71767359.pdf', '43852883.pdf', '58208591.pdf', '46514339.pdf', '78273826.pdf', '56151548.pdf']\n",
            "['19851252.pdf', '17640785.pdf', '15603319.pdf', '18264694.pdf', '17499196.pdf', '15053703.pdf', '15546686.pdf', '16653657.pdf', '14140903.pdf', '16849128.pdf', '16661264.pdf', '18242317.pdf', '11813872.pdf', '11197262.pdf', '19532392.pdf', '12341902.pdf', '20006992.pdf', '12674256.pdf', '16172429.pdf', '21134923.pdf', '16507693.pdf', '21868149.pdf', '20969119.pdf', '11676151.pdf', '10953078.pdf', '17312146.pdf', '37292350.pdf', '26070334.pdf', '38216888.pdf', '29897742.pdf', '29510501.pdf', '55500538.pdf', '28247753.pdf', '40882926.pdf', '24397882.pdf', '28733974.pdf', '23631188.pdf', '24416961.pdf', '29142288.pdf', '69336473.pdf', '29746235.pdf', '26835781.pdf', '69360287.pdf', '24001783.pdf', '89740812.pdf', '27888251.pdf', '29968330.pdf', '55712978.pdf', '28165687.pdf', '36102323.pdf', '34141299.pdf', '27689009.pdf', '62994611.pdf', '37201447.pdf', '30437583.pdf', '56068028.pdf', '81042872.pdf', '84512719.pdf', '69859102.pdf', '54246169.pdf', '79536879.pdf', '26921245.pdf', '24068423.pdf']\n",
            "['10344379.pdf', '14064815.pdf', '15313140.pdf', '15337481.pdf', '10186968.pdf', '13072354.pdf', '13967854.pdf', '10818478.pdf', '13115648.pdf', '13593241.pdf', '14146106.pdf', '15727656.pdf', '11773767.pdf', '16332348.pdf', '13342150.pdf', '11174187.pdf', '11963737.pdf', '14176254.pdf', '13809698.pdf', '12171093.pdf', '13909762.pdf', '14708590.pdf', '10659182.pdf', '14445309.pdf', '11188218.pdf', '12544735.pdf', '15958967.pdf', '17254634.pdf', '25873425.pdf', '23804341.pdf', '21614256.pdf', '26456474.pdf', '23427369.pdf', '17021141.pdf', '19063156.pdf', '18090899.pdf', '20324037.pdf', '24588864.pdf', '24946537.pdf', '17165107.pdf', '20400279.pdf', '20272792.pdf', '20765795.pdf', '28111403.pdf', '24410405.pdf', '22259475.pdf', '24124250.pdf', '26071861.pdf', '24754689.pdf', '18725071.pdf', '19234823.pdf', '19518606.pdf', '22391901.pdf', '23577836.pdf', '18997135.pdf', '17847636.pdf', '22042181.pdf', '24763208.pdf', '17911230.pdf', '19926135.pdf', '27182111.pdf', '20138606.pdf', '24695561.pdf', '19108760.pdf', '20604208.pdf', '20544228.pdf', '32965335.pdf', '29926588.pdf', '36392131.pdf', '74126637.pdf', '38698573.pdf', '31242382.pdf', '35474904.pdf', '53169257.pdf', '36694627.pdf', '29177904.pdf', '28206098.pdf', '54067174.pdf', '38291889.pdf', '47133747.pdf', '37560528.pdf', '37333719.pdf', '35344611.pdf', '28635795.pdf', '72652441.pdf', '73448369.pdf', '38059130.pdf', '40088790.pdf', '49475708.pdf', '28974459.pdf', '31040875.pdf', '34970271.pdf', '37640804.pdf', '38860712.pdf', '34327438.pdf', '28871170.pdf', '37348041.pdf', '49486820.pdf', '74191424.pdf', '29415426.pdf', '30741799.pdf', '44115326.pdf', '29173771.pdf', '46772262.pdf', '42164460.pdf', '95970987.pdf', '80503242.pdf', '90468982.pdf', '93512385.pdf', '75435017.pdf', '89508407.pdf', '95714702.pdf', '75057933.pdf', '97405769.pdf', '75950464.pdf', '78538268.pdf', '77439230.pdf', '91051945.pdf']\n"
          ]
        }
      ]
    },
    {
      "cell_type": "code",
      "source": [
        "Script2 = []\n",
        "for k in range(len(CV_files)):\n",
        "\n",
        "  Script1 = []\n",
        "  for j in range(3):\n",
        "    Script = []\n",
        "    with pdfplumber.open(CV_files[k][j]) as pdf:\n",
        "        for i in range (0,pages[k][j]):\n",
        "          page=pdf.pages[i]\n",
        "          text=page.extract_text()\n",
        "          #print (text)\n",
        "          Script.append(text)\n",
        "    Script1.append(Script)\n",
        "  Script2.append(Script1)"
      ],
      "metadata": {
        "id": "YFcXCFzikf31"
      },
      "execution_count": 70,
      "outputs": []
    },
    {
      "cell_type": "code",
      "source": [
        "CV_Clear = []\n",
        "for k in range(len(CV_files)):\n",
        "  temp = []\n",
        "  for j in range(3):\n",
        "    Script2[k][j] = ''.join(Script2[k][j])\n",
        "    temp.append(Script2[k][j].replace(\"\\n\",\"\"))\n",
        "  CV_Clear.append(temp)\n"
      ],
      "metadata": {
        "id": "0XgKF7PWrzSx"
      },
      "execution_count": 71,
      "outputs": []
    },
    {
      "cell_type": "code",
      "source": [
        "resume = []\n",
        "for i in range(len(CV_Clear)):\n",
        "  temp = []\n",
        "  for j in range(3):\n",
        "\n",
        "\n",
        "    doc = nlp(CV_Clear[i][j])\n",
        "\n",
        "    # Extract the skills and experience from the resume\n",
        "    skills = []\n",
        "    job_roles = []\n",
        "    education = []\n",
        "    experience = []\n",
        "\n",
        "    for entity in doc.ents:\n",
        "        if entity.label_ == \"SKILL\":\n",
        "            skills.append(entity.text)\n",
        "        elif entity.label_ == \"ORG\":\n",
        "            experience.append(entity.text)\n",
        "        elif entity.label_ == \"JOB_ROLE\":\n",
        "            job_roles.append(entity.text)\n",
        "        elif entity.label_ == \"EDUCATION\":\n",
        "            education.append(entity.text)\n",
        "\n",
        "    resume1 = skills + job_roles + education + experience\n",
        "    temp.append(resume1)\n",
        "  resume.append(temp)"
      ],
      "metadata": {
        "id": "v-xyNfCLTD3T"
      },
      "execution_count": 72,
      "outputs": []
    },
    {
      "cell_type": "code",
      "source": [
        "import datasets\n",
        "dataset = datasets.load_dataset(\"jacob-hugging-face/job-descriptions\", split=\"train\")"
      ],
      "metadata": {
        "id": "yJV-o7o4qTmY"
      },
      "execution_count": 73,
      "outputs": []
    },
    {
      "cell_type": "code",
      "source": [
        "job_description = []\n",
        "for i in range(15):\n",
        "  job = dataset[i]['job_description']\n",
        "  job_description.append(job)"
      ],
      "metadata": {
        "id": "zQgwRu4T4Z_B"
      },
      "execution_count": 74,
      "outputs": []
    },
    {
      "cell_type": "code",
      "source": [
        "from transformers import DistilBertTokenizer, DistilBertModel\n",
        "import torch\n",
        "\n",
        "# Load pre-trained DistilBERT model and tokenizer\n",
        "tokenizer = DistilBertTokenizer.from_pretrained('distilbert-base-uncased')\n",
        "model = DistilBertModel.from_pretrained('distilbert-base-uncased')\n",
        "\n"
      ],
      "metadata": {
        "id": "e9bJB7Cvlyzs"
      },
      "execution_count": 75,
      "outputs": []
    },
    {
      "cell_type": "code",
      "source": [
        "# Tokenize and convert to embeddings\n",
        "job_token_embeddings = []\n",
        "for i in range(15):\n",
        "  job_token = tokenizer.encode(job_description[i], add_special_tokens=True, max_length=512, truncation=True)\n",
        "  job_embeddings = model(torch.tensor(job_token).unsqueeze(0))[0].mean(dim=1)\n",
        "  job_token_embeddings.append(job_embeddings)\n",
        "\n",
        "\n"
      ],
      "metadata": {
        "id": "9EJwU_4BnSVA"
      },
      "execution_count": 76,
      "outputs": []
    },
    {
      "cell_type": "code",
      "source": [
        "resume_tokens_embeddings = []\n",
        "for i in range(len(CV_Clear)):\n",
        "  temp = []\n",
        "  for j in range(3):\n",
        "    if (len(CV_Clear[i][j]) != 0):\n",
        "      resume_tokens = tokenizer.encode(resume[i][j], add_special_tokens=True,max_length=512, truncation=True)\n",
        "      resume_embeddings = model(torch.tensor(resume_tokens).unsqueeze(0))[0].mean(dim=1)\n",
        "      temp.append(resume_embeddings)\n",
        "  resume_tokens_embeddings.append(temp)\n"
      ],
      "metadata": {
        "id": "SwGsftgPfNCi"
      },
      "execution_count": 77,
      "outputs": []
    },
    {
      "cell_type": "code",
      "source": [
        "import torch\n",
        "from torch.nn.functional import cosine_similarity"
      ],
      "metadata": {
        "id": "3LPqLhS7n4dX"
      },
      "execution_count": 78,
      "outputs": []
    },
    {
      "cell_type": "code",
      "source": [
        "score = []\n",
        "for i in range(15):\n",
        "  temp = []\n",
        "  for j in range(len(CV_Clear)):\n",
        "    temp1 = []\n",
        "    for k in range(3):\n",
        "      if (len(CV_Clear[j][k]) != 0):\n",
        "        similarity_score = cosine_similarity(job_token_embeddings[i].unsqueeze(0), resume_tokens_embeddings[j][k].unsqueeze(0), dim=0)\n",
        "        similarity_score = similarity_score.mean().item()\n",
        "        temp1.append(similarity_score)\n",
        "    temp.append(temp1)\n",
        "  score.append(temp)"
      ],
      "metadata": {
        "id": "f-y0y4-Zcti6"
      },
      "execution_count": 79,
      "outputs": []
    },
    {
      "cell_type": "code",
      "source": [
        "print(len(score))"
      ],
      "metadata": {
        "colab": {
          "base_uri": "https://localhost:8080/"
        },
        "id": "5gUPP9VHeHpG",
        "outputId": "c9b574f7-c144-4091-e643-1b15ce02653d"
      },
      "execution_count": 80,
      "outputs": [
        {
          "output_type": "stream",
          "name": "stdout",
          "text": [
            "15\n"
          ]
        }
      ]
    },
    {
      "cell_type": "code",
      "source": [
        "top_5 = []\n",
        "for i in range(14):\n",
        "\n",
        "  flat_list = [item for sublist in score[i] for item in sublist]\n",
        "\n",
        "  # Sort the flattened list in descending order\n",
        "  flat_list.sort(reverse=True)\n",
        "\n",
        "  # Get the top 5 maximum elements\n",
        "  top_5_max = flat_list[:5]\n",
        "  top_5.append(top_5_max)\n"
      ],
      "metadata": {
        "id": "XsDuhOCeipYO"
      },
      "execution_count": 81,
      "outputs": []
    },
    {
      "cell_type": "code",
      "source": [],
      "metadata": {
        "id": "Fb3uq6PrjvGM"
      },
      "execution_count": 81,
      "outputs": []
    }
  ]
}